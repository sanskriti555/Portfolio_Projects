{
 "cells": [
  {
   "cell_type": "markdown",
   "id": "f5775ae2",
   "metadata": {},
   "source": [
    "# Hypothesis Testing"
   ]
  },
  {
   "cell_type": "markdown",
   "id": "6b29bc1e",
   "metadata": {},
   "source": [
    "Hypothesis testing a process lays the foundation to the concept of inferential statistics. \n",
    "\n",
    "As a means of conducting a hypothesis testing we follow a certain procedure:\n",
    "\n",
    "1.) Defining the null and alternative hypothesis\n",
    "2.) State the significance level or the value of alpha\n",
    "3.) Calculate the degree of freedom\n",
    "4.) state the decision rule \n",
    "5.) Calculate the test statistic\n",
    "6.) State results depending on the test statistic and p-value\n",
    "7.) Draw conclusion"
   ]
  },
  {
   "cell_type": "markdown",
   "id": "880c40be",
   "metadata": {},
   "source": [
    "# One Sample T-Test"
   ]
  },
  {
   "cell_type": "markdown",
   "id": "38a05105",
   "metadata": {},
   "source": [
    "A one sample t-test checks whether a sample mean differs from the population mean."
   ]
  },
  {
   "cell_type": "code",
   "execution_count": 1,
   "id": "7a6c9fd7",
   "metadata": {},
   "outputs": [],
   "source": [
    "%matplotlib inline\n",
    "\n",
    "import numpy as np\n",
    "import pandas as pd\n",
    "import scipy.stats as stats\n",
    "import matplotlib.pyplot as plt\n",
    "import math"
   ]
  },
  {
   "cell_type": "code",
   "execution_count": 3,
   "id": "25c1440e",
   "metadata": {},
   "outputs": [
    {
     "name": "stdout",
     "output_type": "stream",
     "text": [
      "43.000112\n",
      "39.26\n"
     ]
    }
   ],
   "source": [
    "## we are creating two set of randomly generated variables.\n",
    "## Variable one contains the population of voters across the country - this becomes our population\n",
    "## Variable two contains the population of voters in Melbourne - this becomes our sample\n",
    "\n",
    "np.random.seed(6)\n",
    "\n",
    "Australia_ages1 = stats.poisson.rvs(loc=18, mu=35, size=150000)\n",
    "Australia_ages2 = stats.poisson.rvs(loc=18, mu=10, size=100000)\n",
    "Australia_ages = np.concatenate((population_ages1, population_ages2))\n",
    "\n",
    "Melbourne_ages1 = stats.poisson.rvs(loc=18, mu=30, size=30)\n",
    "Melbourne_ages2 = stats.poisson.rvs(loc=18, mu=10, size=20)\n",
    "Melbourne_ages = np.concatenate((minnesota_ages1, minnesota_ages2))\n",
    "\n",
    "print( Australia_ages.mean() )\n",
    "print( Melbourne_ages.mean() )"
   ]
  },
  {
   "cell_type": "markdown",
   "id": "16f915ae",
   "metadata": {},
   "source": [
    "H0 - The sample mean differs from the population mean\n",
    "\n",
    "\n",
    "H1 - The sample mean does not differs from the population mean"
   ]
  },
  {
   "cell_type": "code",
   "execution_count": 4,
   "id": "594d5b6a",
   "metadata": {},
   "outputs": [
    {
     "data": {
      "text/plain": [
       "Ttest_1sampResult(statistic=-2.5742714883655027, pvalue=0.013118685425061678)"
      ]
     },
     "execution_count": 4,
     "metadata": {},
     "output_type": "execute_result"
    }
   ],
   "source": [
    "stats.ttest_1samp(a = Melbourne_ages,               \n",
    "                 popmean = Australia_ages.mean()) "
   ]
  },
  {
   "cell_type": "code",
   "execution_count": 22,
   "id": "4368f04c",
   "metadata": {},
   "outputs": [],
   "source": [
    "# The test result shows the test statistic \"t\" is equal to -2.574.\n",
    "\n",
    "# This test statistic tells us how much the sample mean deviates from the null hypothesis. "
   ]
  },
  {
   "cell_type": "code",
   "execution_count": 27,
   "id": "8460e8ab",
   "metadata": {},
   "outputs": [],
   "source": [
    "## Keeping n = 50 - 1 = 49 and alpha values against two tailed test = 0.05 in the t-distribution table we get value = 2.0096\n",
    "\n",
    "## It means that the lower limit of t-statistic should be -2.0096 and upper limit should be +2.0096.\n",
    "\n",
    "## Any value of t-statistic below the lower limit and beyond the upper limit would lead to rejection of null hypothesis \n",
    "## based on t-statistic.\n",
    "\n",
    "## We are keeping critical value against two tailed test because the sample mean can differ from population mean in either\n",
    "## of the two directions - thus it becomes a two tailed test.\n",
    "\n",
    "## Below we are calculating the upper and lower limit through stats.t.ppf"
   ]
  },
  {
   "cell_type": "code",
   "execution_count": 7,
   "id": "2a2fe9ca",
   "metadata": {},
   "outputs": [
    {
     "data": {
      "text/plain": [
       "-2.0095752344892093"
      ]
     },
     "execution_count": 7,
     "metadata": {},
     "output_type": "execute_result"
    }
   ],
   "source": [
    "stats.t.ppf(q=0.025,  # Quantile to check\n",
    "            df=49)  # Degrees of freedom"
   ]
  },
  {
   "cell_type": "code",
   "execution_count": 8,
   "id": "4d739521",
   "metadata": {},
   "outputs": [
    {
     "data": {
      "text/plain": [
       "2.009575234489209"
      ]
     },
     "execution_count": 8,
     "metadata": {},
     "output_type": "execute_result"
    }
   ],
   "source": [
    "stats.t.ppf(q=0.975,  # Quantile to check\n",
    "            df=49)  # Degrees of freedom"
   ]
  },
  {
   "cell_type": "code",
   "execution_count": 15,
   "id": "8fc3b145",
   "metadata": {},
   "outputs": [],
   "source": [
    "## We can see that the t-statistic lies outside the respective quantiles.\n",
    "\n",
    "## Let's move our direction from t-statistic to p-value and see if we are drawing the same inference."
   ]
  },
  {
   "cell_type": "code",
   "execution_count": 16,
   "id": "556051b5",
   "metadata": {},
   "outputs": [
    {
     "data": {
      "text/plain": [
       "(36.369669080722176, 42.15033091927782)"
      ]
     },
     "execution_count": 16,
     "metadata": {},
     "output_type": "execute_result"
    }
   ],
   "source": [
    "sigma = Melbourne_ages.std()/math.sqrt(50)  # Sample stdev/sample size\n",
    "\n",
    "stats.t.interval(0.95,                        # Confidence level\n",
    "                 df = 49,                     # Degrees of freedom\n",
    "                 loc = Melbourne_ages.mean(), # Sample mean\n",
    "                 scale= sigma)                # Standard dev estimate"
   ]
  },
  {
   "cell_type": "code",
   "execution_count": 19,
   "id": "925b6181",
   "metadata": {},
   "outputs": [],
   "source": [
    "## We can see that if we construct a 95% confidence interval for the sample - it will not capture the population mean.\n",
    "\n",
    "## However, at 95% CI - our p-value (= 0.013118685425061678) is less than the significance level ( = 0.05) and thus \n",
    "## we can reject null hypothesis.\n",
    "\n",
    "## Let's increase the CI to 99% and see if the interval subjected on sample is capturing the population mean."
   ]
  },
  {
   "cell_type": "code",
   "execution_count": 20,
   "id": "1b843bd7",
   "metadata": {},
   "outputs": [
    {
     "data": {
      "text/plain": [
       "(35.40547994092107, 43.11452005907893)"
      ]
     },
     "execution_count": 20,
     "metadata": {},
     "output_type": "execute_result"
    }
   ],
   "source": [
    "stats.t.interval(alpha = 0.99,                # Confidence level\n",
    "                 df = 49,                     # Degrees of freedom\n",
    "                 loc = Melbourne_ages.mean(), # Sample mean\n",
    "                 scale= sigma)                # Standard dev estimate"
   ]
  },
  {
   "cell_type": "code",
   "execution_count": 21,
   "id": "ca9f41c2",
   "metadata": {},
   "outputs": [],
   "source": [
    "## The 99% CI over sample is capturing the mean of population.\n",
    "\n",
    "## In this case, our p-value (= 0.013118685425061678) is NOT less than the significance level ( = 0.01) and thus\n",
    "## we cannot reject the null hypothesis."
   ]
  },
  {
   "cell_type": "markdown",
   "id": "c37f1c75",
   "metadata": {},
   "source": [
    "Conclusion - The sample mean differs, i.e. it is not equal to its population mean."
   ]
  },
  {
   "cell_type": "markdown",
   "id": "c8353ace",
   "metadata": {},
   "source": [
    "# Two Sample T-Test"
   ]
  },
  {
   "cell_type": "markdown",
   "id": "6fab5773",
   "metadata": {},
   "source": [
    "A two sample t-test checks whether the mean of two independent samples differs from one another. Unlike a one sample t-test which tests against the population mean, a two sample t-test tests against the mean of another independent sample."
   ]
  },
  {
   "cell_type": "code",
   "execution_count": 29,
   "id": "af650a98",
   "metadata": {},
   "outputs": [
    {
     "name": "stdout",
     "output_type": "stream",
     "text": [
      "42.8\n"
     ]
    }
   ],
   "source": [
    "## Randomly generating a variable which will depict the age of voters from Brisbane city.\n",
    "\n",
    "np.random.seed(12)\n",
    "Brisbane_ages1 = stats.poisson.rvs(loc=18, mu=33, size=30)\n",
    "Brisbane_ages2 = stats.poisson.rvs(loc=18, mu=13, size=20)\n",
    "Brisbane_ages = np.concatenate((wisconsin_ages1, wisconsin_ages2))\n",
    "\n",
    "print( Brisbane_ages.mean() )"
   ]
  },
  {
   "cell_type": "markdown",
   "id": "7956027e",
   "metadata": {},
   "source": [
    "H0: The mean voter age in Melbourne is equal to mean voter age in Brisbane.\n",
    "\n",
    "H1: The mean voter age in Melbourne is not equal to mean voter age in Brisbane."
   ]
  },
  {
   "cell_type": "code",
   "execution_count": 31,
   "id": "6c12690e",
   "metadata": {},
   "outputs": [
    {
     "data": {
      "text/plain": [
       "Ttest_indResult(statistic=-1.7083870793286842, pvalue=0.09073104343957748)"
      ]
     },
     "execution_count": 31,
     "metadata": {},
     "output_type": "execute_result"
    }
   ],
   "source": [
    "stats.ttest_ind(a= Melbourne_ages,\n",
    "                b= Brisbane_ages,\n",
    "                equal_var=False)    # Assume samples have equal variance"
   ]
  },
  {
   "cell_type": "code",
   "execution_count": 32,
   "id": "43118b20",
   "metadata": {},
   "outputs": [],
   "source": [
    "## Here, p-value (= 0.09073104343957748) is greater than the significance level ( = 0.01).\n",
    "\n",
    "## Thus, we fail to reject the null hypothesis"
   ]
  },
  {
   "cell_type": "markdown",
   "id": "bea3a6e1",
   "metadata": {},
   "source": [
    "Conclusion - The mean age of voting in Melbourne is identical to mean age of voting in Brisbane."
   ]
  },
  {
   "cell_type": "markdown",
   "id": "86908700",
   "metadata": {},
   "source": [
    "# Paired T-Test"
   ]
  },
  {
   "cell_type": "markdown",
   "id": "db560672",
   "metadata": {},
   "source": [
    "In case of a paired t-test, we are testing between the groups which are originally generated from same sample. Thus, the two groups are not independent and rather paired.\n",
    "\n",
    "For e.g. - a hospital wants to check the effectiveness of a weight loss drug. For this, it generates two set of data, i.e. weight of same set of patients before and after they were subjected to the weight loss drug."
   ]
  },
  {
   "cell_type": "code",
   "execution_count": 41,
   "id": "dcc86cd3",
   "metadata": {},
   "outputs": [
    {
     "data": {
      "text/html": [
       "<div>\n",
       "<style scoped>\n",
       "    .dataframe tbody tr th:only-of-type {\n",
       "        vertical-align: middle;\n",
       "    }\n",
       "\n",
       "    .dataframe tbody tr th {\n",
       "        vertical-align: top;\n",
       "    }\n",
       "\n",
       "    .dataframe thead th {\n",
       "        text-align: right;\n",
       "    }\n",
       "</style>\n",
       "<table border=\"1\" class=\"dataframe\">\n",
       "  <thead>\n",
       "    <tr style=\"text-align: right;\">\n",
       "      <th></th>\n",
       "      <th>weight_before</th>\n",
       "      <th>weight_after</th>\n",
       "      <th>weight_change</th>\n",
       "    </tr>\n",
       "  </thead>\n",
       "  <tbody>\n",
       "    <tr>\n",
       "      <th>0</th>\n",
       "      <td>302.483642</td>\n",
       "      <td>305.605006</td>\n",
       "      <td>3.121364</td>\n",
       "    </tr>\n",
       "    <tr>\n",
       "      <th>1</th>\n",
       "      <td>241.417810</td>\n",
       "      <td>240.526071</td>\n",
       "      <td>-0.891739</td>\n",
       "    </tr>\n",
       "    <tr>\n",
       "      <th>2</th>\n",
       "      <td>235.463046</td>\n",
       "      <td>226.017788</td>\n",
       "      <td>-9.445258</td>\n",
       "    </tr>\n",
       "    <tr>\n",
       "      <th>3</th>\n",
       "      <td>170.400443</td>\n",
       "      <td>165.913930</td>\n",
       "      <td>-4.486513</td>\n",
       "    </tr>\n",
       "    <tr>\n",
       "      <th>4</th>\n",
       "      <td>249.751461</td>\n",
       "      <td>252.590309</td>\n",
       "      <td>2.838848</td>\n",
       "    </tr>\n",
       "  </tbody>\n",
       "</table>\n",
       "</div>"
      ],
      "text/plain": [
       "   weight_before  weight_after  weight_change\n",
       "0     302.483642    305.605006       3.121364\n",
       "1     241.417810    240.526071      -0.891739\n",
       "2     235.463046    226.017788      -9.445258\n",
       "3     170.400443    165.913930      -4.486513\n",
       "4     249.751461    252.590309       2.838848"
      ]
     },
     "execution_count": 41,
     "metadata": {},
     "output_type": "execute_result"
    }
   ],
   "source": [
    "np.random.seed(11)\n",
    "\n",
    "before= stats.norm.rvs(scale=30, loc=250, size=100)\n",
    "\n",
    "after = before + stats.norm.rvs(scale=5, loc=-1.25, size=100)\n",
    "\n",
    "weight_df = pd.DataFrame({\"weight_before\":before,\n",
    "                          \"weight_after\":after,\n",
    "                          \"weight_change\":after-before})\n",
    "\n",
    "weight_df.head()"
   ]
  },
  {
   "cell_type": "code",
   "execution_count": 42,
   "id": "6d004192",
   "metadata": {},
   "outputs": [
    {
     "data": {
      "text/html": [
       "<div>\n",
       "<style scoped>\n",
       "    .dataframe tbody tr th:only-of-type {\n",
       "        vertical-align: middle;\n",
       "    }\n",
       "\n",
       "    .dataframe tbody tr th {\n",
       "        vertical-align: top;\n",
       "    }\n",
       "\n",
       "    .dataframe thead th {\n",
       "        text-align: right;\n",
       "    }\n",
       "</style>\n",
       "<table border=\"1\" class=\"dataframe\">\n",
       "  <thead>\n",
       "    <tr style=\"text-align: right;\">\n",
       "      <th></th>\n",
       "      <th>weight_before</th>\n",
       "      <th>weight_after</th>\n",
       "      <th>weight_change</th>\n",
       "    </tr>\n",
       "  </thead>\n",
       "  <tbody>\n",
       "    <tr>\n",
       "      <th>count</th>\n",
       "      <td>100.000000</td>\n",
       "      <td>100.000000</td>\n",
       "      <td>100.000000</td>\n",
       "    </tr>\n",
       "    <tr>\n",
       "      <th>mean</th>\n",
       "      <td>250.345546</td>\n",
       "      <td>249.115171</td>\n",
       "      <td>-1.230375</td>\n",
       "    </tr>\n",
       "    <tr>\n",
       "      <th>std</th>\n",
       "      <td>28.132539</td>\n",
       "      <td>28.422183</td>\n",
       "      <td>4.783696</td>\n",
       "    </tr>\n",
       "    <tr>\n",
       "      <th>min</th>\n",
       "      <td>170.400443</td>\n",
       "      <td>165.913930</td>\n",
       "      <td>-11.495286</td>\n",
       "    </tr>\n",
       "    <tr>\n",
       "      <th>25%</th>\n",
       "      <td>230.421042</td>\n",
       "      <td>229.148236</td>\n",
       "      <td>-4.046211</td>\n",
       "    </tr>\n",
       "    <tr>\n",
       "      <th>50%</th>\n",
       "      <td>250.830805</td>\n",
       "      <td>251.134089</td>\n",
       "      <td>-1.413463</td>\n",
       "    </tr>\n",
       "    <tr>\n",
       "      <th>75%</th>\n",
       "      <td>270.637145</td>\n",
       "      <td>268.927258</td>\n",
       "      <td>1.738673</td>\n",
       "    </tr>\n",
       "    <tr>\n",
       "      <th>max</th>\n",
       "      <td>314.700233</td>\n",
       "      <td>316.720357</td>\n",
       "      <td>9.759282</td>\n",
       "    </tr>\n",
       "  </tbody>\n",
       "</table>\n",
       "</div>"
      ],
      "text/plain": [
       "       weight_before  weight_after  weight_change\n",
       "count     100.000000    100.000000     100.000000\n",
       "mean      250.345546    249.115171      -1.230375\n",
       "std        28.132539     28.422183       4.783696\n",
       "min       170.400443    165.913930     -11.495286\n",
       "25%       230.421042    229.148236      -4.046211\n",
       "50%       250.830805    251.134089      -1.413463\n",
       "75%       270.637145    268.927258       1.738673\n",
       "max       314.700233    316.720357       9.759282"
      ]
     },
     "execution_count": 42,
     "metadata": {},
     "output_type": "execute_result"
    }
   ],
   "source": [
    "weight_df.describe()             "
   ]
  },
  {
   "cell_type": "code",
   "execution_count": 43,
   "id": "a9cd0eef",
   "metadata": {},
   "outputs": [],
   "source": [
    "## We see can from the above data summary that the patients lost nearly 1.23 kgs of weight on an average due to the pills."
   ]
  },
  {
   "cell_type": "markdown",
   "id": "08a0eeb9",
   "metadata": {},
   "source": [
    "H0: The mean weight differs before and after the experiment\n",
    "\n",
    "H1: The mean weight does not differs before and after the experiment"
   ]
  },
  {
   "cell_type": "code",
   "execution_count": 44,
   "id": "d4a8a674",
   "metadata": {},
   "outputs": [
    {
     "data": {
      "text/plain": [
       "Ttest_relResult(statistic=2.5720175998568284, pvalue=0.011596444318439857)"
      ]
     },
     "execution_count": 44,
     "metadata": {},
     "output_type": "execute_result"
    }
   ],
   "source": [
    "stats.ttest_rel(a = before,\n",
    "                b = after)"
   ]
  },
  {
   "cell_type": "code",
   "execution_count": 45,
   "id": "8e910710",
   "metadata": {},
   "outputs": [],
   "source": [
    "## Here, we can see that the p-value is greater than the significance level ( = 0.01)\n",
    "\n",
    "## Thus, we fail to reject the null hypothesis."
   ]
  },
  {
   "cell_type": "markdown",
   "id": "71968258",
   "metadata": {},
   "source": [
    "Conclusion - The mean weight of patients differs before and after the experiment - thus the pill seems effective."
   ]
  },
  {
   "cell_type": "markdown",
   "id": "f6b792ef",
   "metadata": {},
   "source": [
    "# Chi-Squared Goodness-Of-Fit Test"
   ]
  },
  {
   "cell_type": "markdown",
   "id": "e5f15d67",
   "metadata": {},
   "source": [
    "Chi-Square goodness of fit test is identical in working to the one sample t-test. It tests whether the distribution of sample is identical to the distribution of its population. Also, since the test is implied on categorical data, we deal with count of respective classes and not their exact values."
   ]
  },
  {
   "cell_type": "code",
   "execution_count": 46,
   "id": "efe623ec",
   "metadata": {},
   "outputs": [],
   "source": [
    "import scipy.stats as stats"
   ]
  },
  {
   "cell_type": "code",
   "execution_count": 48,
   "id": "c8b4e950",
   "metadata": {},
   "outputs": [
    {
     "name": "stdout",
     "output_type": "stream",
     "text": [
      "Australia\n",
      "col_0      count\n",
      "0               \n",
      "asian      15000\n",
      "black      50000\n",
      "hispanic   60000\n",
      "other      35000\n",
      "white     100000\n",
      " \n",
      "Melbourne\n",
      "col_0     count\n",
      "0              \n",
      "asian        75\n",
      "black       250\n",
      "hispanic    300\n",
      "other       150\n",
      "white       600\n"
     ]
    }
   ],
   "source": [
    "## generating random set of demographics for Australia and Melbourne\n",
    "\n",
    "Australia = pd.DataFrame([\"white\"]*100000 + [\"hispanic\"]*60000 +\\\n",
    "                        [\"black\"]*50000 + [\"asian\"]*15000 + [\"other\"]*35000)\n",
    "           \n",
    "\n",
    "Melbourne = pd.DataFrame([\"white\"]*600 + [\"hispanic\"]*300 + \\\n",
    "                         [\"black\"]*250 +[\"asian\"]*75 + [\"other\"]*150)\n",
    "\n",
    "Australia_table = pd.crosstab(index=Australia[0], columns=\"count\")\n",
    "Melbourne_table = pd.crosstab(index=Melbourne[0], columns=\"count\")\n",
    "\n",
    "print( \"Australia\")\n",
    "print(Australia_table)\n",
    "print(\" \")\n",
    "print( \"Melbourne\")\n",
    "print(Melbourne_table)"
   ]
  },
  {
   "cell_type": "markdown",
   "id": "cf46853a",
   "metadata": {},
   "source": [
    "H0: The distribution of sample is same as that of the population\n",
    "\n",
    "H1: The distribution of sample is not same as that of the population"
   ]
  },
  {
   "cell_type": "code",
   "execution_count": 49,
   "id": "aaf17b99",
   "metadata": {},
   "outputs": [
    {
     "name": "stdout",
     "output_type": "stream",
     "text": [
      "col_0\n",
      "count    18.194805\n",
      "dtype: float64\n"
     ]
    }
   ],
   "source": [
    "## calculating chi-square test statistic\n",
    "\n",
    "observed = Melbourne_table\n",
    "\n",
    "Australia_ratios = Australia_table/len(Australia)  # Get population ratios\n",
    "\n",
    "expected = Australia_ratios * len(Melbourne)   # Get expected counts\n",
    "\n",
    "chi_squared_stat = (((observed-expected)**2)/expected).sum()\n",
    "\n",
    "print(chi_squared_stat)"
   ]
  },
  {
   "cell_type": "code",
   "execution_count": 50,
   "id": "9be0803b",
   "metadata": {},
   "outputs": [],
   "source": [
    "## Note: The chi-squared test assumes none of the expected counts are less than 5."
   ]
  },
  {
   "cell_type": "code",
   "execution_count": 51,
   "id": "b922e438",
   "metadata": {},
   "outputs": [
    {
     "name": "stdout",
     "output_type": "stream",
     "text": [
      "Critical value\n",
      "9.487729036781154\n",
      "P value\n",
      "[0.00113047]\n"
     ]
    }
   ],
   "source": [
    "crit = stats.chi2.ppf(q = 0.95, # Find the critical value for 95% confidence*\n",
    "                      df = 4)   # Df = number of variable categories - 1\n",
    "\n",
    "print(\"Critical value\")\n",
    "print(crit)\n",
    "\n",
    "p_value = 1 - stats.chi2.cdf(x=chi_squared_stat,  # Find the p-value\n",
    "                             df=4)\n",
    "print(\"P value\")\n",
    "print(p_value)"
   ]
  },
  {
   "cell_type": "code",
   "execution_count": 52,
   "id": "b40cc4e7",
   "metadata": {},
   "outputs": [],
   "source": [
    "## Since our chi-square statistic ( = 18.194805) is greater than the critical value ( = 9.487729036781154)\n",
    "## we reject the null hypothesis and conclude that sample distribution is not identical to that of distribution of population."
   ]
  },
  {
   "cell_type": "code",
   "execution_count": null,
   "id": "2f1d91a0",
   "metadata": {},
   "outputs": [],
   "source": [
    "## The same inference can be drawn on the basis of p-value. \n",
    "\n",
    "## The p-value ( = 0.00113047) is less than the significance level ( = 0.05) and thus the rejection of null hypothesis is \n",
    "## evident."
   ]
  },
  {
   "cell_type": "code",
   "execution_count": 53,
   "id": "12c2478a",
   "metadata": {},
   "outputs": [
    {
     "data": {
      "text/plain": [
       "Power_divergenceResult(statistic=array([18.19480519]), pvalue=array([0.00113047]))"
      ]
     },
     "execution_count": 53,
     "metadata": {},
     "output_type": "execute_result"
    }
   ],
   "source": [
    "## Direct way of conducting a chi-square goodness of fit test\n",
    "\n",
    "stats.chisquare(f_obs= observed,   # Array of observed counts\n",
    "                f_exp= expected)   # Array of expected counts"
   ]
  },
  {
   "cell_type": "markdown",
   "id": "8fbf5c6b",
   "metadata": {},
   "source": [
    "Conclusion - Since the null hypothesis got rejected we can say that distribution of demographics in Melbourne is not \n",
    "identical to that in entire Australia."
   ]
  },
  {
   "cell_type": "markdown",
   "id": "caad21e8",
   "metadata": {},
   "source": [
    "# Chi-Squared Test of Independence"
   ]
  },
  {
   "cell_type": "markdown",
   "id": "41d09738",
   "metadata": {},
   "source": [
    "The chi-squared test of independence essentially checks whether two categorical variables are independent of each other.\n",
    "\n",
    "For e.g. It can be implied to check whether gender of a person impacts the casted vote. If these two variables, when tested, comes independent - then it can inferred that sex of an individual has no impact on the casting of vote."
   ]
  },
  {
   "cell_type": "code",
   "execution_count": 54,
   "id": "484ebf1f",
   "metadata": {},
   "outputs": [
    {
     "data": {
      "text/html": [
       "<div>\n",
       "<style scoped>\n",
       "    .dataframe tbody tr th:only-of-type {\n",
       "        vertical-align: middle;\n",
       "    }\n",
       "\n",
       "    .dataframe tbody tr th {\n",
       "        vertical-align: top;\n",
       "    }\n",
       "\n",
       "    .dataframe thead th {\n",
       "        text-align: right;\n",
       "    }\n",
       "</style>\n",
       "<table border=\"1\" class=\"dataframe\">\n",
       "  <thead>\n",
       "    <tr style=\"text-align: right;\">\n",
       "      <th></th>\n",
       "      <th>democrat</th>\n",
       "      <th>independent</th>\n",
       "      <th>republican</th>\n",
       "      <th>row_totals</th>\n",
       "    </tr>\n",
       "  </thead>\n",
       "  <tbody>\n",
       "    <tr>\n",
       "      <th>asian</th>\n",
       "      <td>21</td>\n",
       "      <td>7</td>\n",
       "      <td>32</td>\n",
       "      <td>60</td>\n",
       "    </tr>\n",
       "    <tr>\n",
       "      <th>black</th>\n",
       "      <td>65</td>\n",
       "      <td>25</td>\n",
       "      <td>64</td>\n",
       "      <td>154</td>\n",
       "    </tr>\n",
       "    <tr>\n",
       "      <th>hispanic</th>\n",
       "      <td>107</td>\n",
       "      <td>50</td>\n",
       "      <td>94</td>\n",
       "      <td>251</td>\n",
       "    </tr>\n",
       "    <tr>\n",
       "      <th>other</th>\n",
       "      <td>15</td>\n",
       "      <td>8</td>\n",
       "      <td>15</td>\n",
       "      <td>38</td>\n",
       "    </tr>\n",
       "    <tr>\n",
       "      <th>white</th>\n",
       "      <td>189</td>\n",
       "      <td>96</td>\n",
       "      <td>212</td>\n",
       "      <td>497</td>\n",
       "    </tr>\n",
       "    <tr>\n",
       "      <th>col_totals</th>\n",
       "      <td>397</td>\n",
       "      <td>186</td>\n",
       "      <td>417</td>\n",
       "      <td>1000</td>\n",
       "    </tr>\n",
       "  </tbody>\n",
       "</table>\n",
       "</div>"
      ],
      "text/plain": [
       "            democrat  independent  republican  row_totals\n",
       "asian             21            7          32          60\n",
       "black             65           25          64         154\n",
       "hispanic         107           50          94         251\n",
       "other             15            8          15          38\n",
       "white            189           96         212         497\n",
       "col_totals       397          186         417        1000"
      ]
     },
     "execution_count": 54,
     "metadata": {},
     "output_type": "execute_result"
    }
   ],
   "source": [
    "np.random.seed(10)\n",
    "\n",
    "# Sample data randomly at fixed probabilities\n",
    "voter_race = np.random.choice(a= [\"asian\",\"black\",\"hispanic\",\"other\",\"white\"],\n",
    "                              p = [0.05, 0.15 ,0.25, 0.05, 0.5],\n",
    "                              size=1000)\n",
    "\n",
    "# Sample data randomly at fixed probabilities\n",
    "voter_party = np.random.choice(a= [\"democrat\",\"independent\",\"republican\"],\n",
    "                              p = [0.4, 0.2, 0.4],\n",
    "                              size=1000)\n",
    "\n",
    "voters = pd.DataFrame({\"race\":voter_race, \n",
    "                       \"party\":voter_party})\n",
    "\n",
    "voter_tab = pd.crosstab(voters.race, voters.party, margins = True)\n",
    "\n",
    "voter_tab.columns = [\"democrat\",\"independent\",\"republican\",\"row_totals\"]\n",
    "\n",
    "voter_tab.index = [\"asian\",\"black\",\"hispanic\",\"other\",\"white\",\"col_totals\"]\n",
    "\n",
    "observed = voter_tab.iloc[0:5,0:3]   # Get table without totals for later use\n",
    "voter_tab"
   ]
  },
  {
   "cell_type": "markdown",
   "id": "aa05be1d",
   "metadata": {},
   "source": [
    "H0:  The vote casted to a specific party is independent of the race to which the individual belongs \n",
    "\n",
    "H1:  The vote casted to a specific party is dependent on the race to which the individual belongs"
   ]
  },
  {
   "cell_type": "code",
   "execution_count": 55,
   "id": "0780ee86",
   "metadata": {},
   "outputs": [
    {
     "data": {
      "text/html": [
       "<div>\n",
       "<style scoped>\n",
       "    .dataframe tbody tr th:only-of-type {\n",
       "        vertical-align: middle;\n",
       "    }\n",
       "\n",
       "    .dataframe tbody tr th {\n",
       "        vertical-align: top;\n",
       "    }\n",
       "\n",
       "    .dataframe thead th {\n",
       "        text-align: right;\n",
       "    }\n",
       "</style>\n",
       "<table border=\"1\" class=\"dataframe\">\n",
       "  <thead>\n",
       "    <tr style=\"text-align: right;\">\n",
       "      <th></th>\n",
       "      <th>democrat</th>\n",
       "      <th>independent</th>\n",
       "      <th>republican</th>\n",
       "    </tr>\n",
       "  </thead>\n",
       "  <tbody>\n",
       "    <tr>\n",
       "      <th>asian</th>\n",
       "      <td>23.820</td>\n",
       "      <td>11.160</td>\n",
       "      <td>25.020</td>\n",
       "    </tr>\n",
       "    <tr>\n",
       "      <th>black</th>\n",
       "      <td>61.138</td>\n",
       "      <td>28.644</td>\n",
       "      <td>64.218</td>\n",
       "    </tr>\n",
       "    <tr>\n",
       "      <th>hispanic</th>\n",
       "      <td>99.647</td>\n",
       "      <td>46.686</td>\n",
       "      <td>104.667</td>\n",
       "    </tr>\n",
       "    <tr>\n",
       "      <th>other</th>\n",
       "      <td>15.086</td>\n",
       "      <td>7.068</td>\n",
       "      <td>15.846</td>\n",
       "    </tr>\n",
       "    <tr>\n",
       "      <th>white</th>\n",
       "      <td>197.309</td>\n",
       "      <td>92.442</td>\n",
       "      <td>207.249</td>\n",
       "    </tr>\n",
       "  </tbody>\n",
       "</table>\n",
       "</div>"
      ],
      "text/plain": [
       "          democrat  independent  republican\n",
       "asian       23.820       11.160      25.020\n",
       "black       61.138       28.644      64.218\n",
       "hispanic    99.647       46.686     104.667\n",
       "other       15.086        7.068      15.846\n",
       "white      197.309       92.442     207.249"
      ]
     },
     "execution_count": 55,
     "metadata": {},
     "output_type": "execute_result"
    }
   ],
   "source": [
    "expected =  np.outer(voter_tab[\"row_totals\"][0:5],\n",
    "                     voter_tab.loc[\"col_totals\"][0:3]) / 1000\n",
    "\n",
    "expected = pd.DataFrame(expected)\n",
    "\n",
    "expected.columns = [\"democrat\",\"independent\",\"republican\"]\n",
    "expected.index = [\"asian\",\"black\",\"hispanic\",\"other\",\"white\"]\n",
    "\n",
    "expected"
   ]
  },
  {
   "cell_type": "code",
   "execution_count": 56,
   "id": "bd32cdd4",
   "metadata": {},
   "outputs": [
    {
     "name": "stdout",
     "output_type": "stream",
     "text": [
      "7.169321280162059\n"
     ]
    }
   ],
   "source": [
    "chi_squared_stat = (((observed-expected)**2)/expected).sum().sum()\n",
    "\n",
    "print(chi_squared_stat)\n",
    "\n",
    "## We call .sum() twice: once to get the column sums and a second time to add the column sums together, returning the \n",
    "## sum of the entire 2D table."
   ]
  },
  {
   "cell_type": "code",
   "execution_count": 57,
   "id": "c32e3825",
   "metadata": {},
   "outputs": [
    {
     "name": "stdout",
     "output_type": "stream",
     "text": [
      "Critical value\n",
      "15.50731305586545\n",
      "P value\n",
      "0.518479392948842\n"
     ]
    }
   ],
   "source": [
    "crit = stats.chi2.ppf(q = 0.95, # Find the critical value for 95% confidence*\n",
    "                      df = 8)   # *\n",
    "\n",
    "print(\"Critical value\")\n",
    "print(crit)\n",
    "\n",
    "p_value = 1 - stats.chi2.cdf(x=chi_squared_stat,  # Find the p-value\n",
    "                             df=8)\n",
    "print(\"P value\")\n",
    "print(p_value)\n",
    "\n",
    "## The degrees of freedom for a test of independence equals the product of the number of categories in each variable minus 1. \n",
    "## In this case we have a 5x3 table so df = 4x2 = 8."
   ]
  },
  {
   "cell_type": "code",
   "execution_count": 58,
   "id": "ee89357e",
   "metadata": {},
   "outputs": [],
   "source": [
    "## Here, the p-value (= 0.518479392948842) is greater than the significance level (=0.05)\n",
    "\n",
    "## &&\n",
    "\n",
    "## The chi-square test statistic ( = 7.169321280162059) is less than the critical value (= 15.50731305586545)\n",
    "\n",
    "## Both of which individually depicts that the test fails to reject the null - hypothesis."
   ]
  },
  {
   "cell_type": "code",
   "execution_count": 59,
   "id": "43298068",
   "metadata": {},
   "outputs": [
    {
     "data": {
      "text/plain": [
       "(7.169321280162059,\n",
       " 0.518479392948842,\n",
       " 8,\n",
       " array([[ 23.82 ,  11.16 ,  25.02 ],\n",
       "        [ 61.138,  28.644,  64.218],\n",
       "        [ 99.647,  46.686, 104.667],\n",
       "        [ 15.086,   7.068,  15.846],\n",
       "        [197.309,  92.442, 207.249]]))"
      ]
     },
     "execution_count": 59,
     "metadata": {},
     "output_type": "execute_result"
    }
   ],
   "source": [
    "## Direct way of applying the chi-squared test of independence\n",
    "\n",
    "stats.chi2_contingency(observed= observed)\n",
    "\n",
    "## The output includes - test statistic, p-value, degree of freedom. followed by expected counts."
   ]
  },
  {
   "cell_type": "markdown",
   "id": "fd6146d1",
   "metadata": {},
   "source": [
    "Conclusion - It can be concluded that the relationship between race of an individual and the casted voted is statistically insiginificant, i.e. the variables are independent of each other."
   ]
  },
  {
   "cell_type": "markdown",
   "id": "762aa82e",
   "metadata": {},
   "source": [
    "# One-Way Anova"
   ]
  },
  {
   "cell_type": "markdown",
   "id": "12c1ca46",
   "metadata": {},
   "source": [
    "ANOVA as per its name stands for \"analysis of variance\". The basic implementation of ANOVA is wherein you want to see how a numerical value differs across few categorical groups. Unlike t-test wherein you used to compare means of two groups, ANOVA is implied to compare more than two groups.\n",
    "\n",
    "Another fundamental difference between ANOVA and t-test is - we use \"t-distribution\" for t-test and \"f-distribution\" for ANOVA.\n",
    "\n",
    "The reason that we dont carry out a specific t-test for each group and then draw the results is it increases the chances of false positives in the test.\n",
    "\n",
    "Another method of ANOVA is two-way anova. (I am keeping that for some other project)"
   ]
  },
  {
   "cell_type": "code",
   "execution_count": 60,
   "id": "8e2b88f1",
   "metadata": {},
   "outputs": [],
   "source": [
    "import scipy.stats as stats"
   ]
  },
  {
   "cell_type": "code",
   "execution_count": 62,
   "id": "b9a0d102",
   "metadata": {},
   "outputs": [],
   "source": [
    "## creating set of voters as per their age and then grouping them based on their race.\n",
    "\n",
    "np.random.seed(12)\n",
    "\n",
    "races =   [\"asian\",\"black\",\"hispanic\",\"other\",\"white\"]\n",
    "\n",
    "# Generate random data\n",
    "voter_race = np.random.choice(a= races,\n",
    "                              p = [0.05, 0.15 ,0.25, 0.05, 0.5],\n",
    "                              size=1000)\n",
    "\n",
    "voter_age = stats.poisson.rvs(loc=18,\n",
    "                              mu=30,\n",
    "                              size=1000)\n",
    "\n",
    "# Group age data by race\n",
    "voter_frame = pd.DataFrame({\"race\":voter_race,\"age\":voter_age})\n",
    "groups = voter_frame.groupby(\"race\").groups\n",
    "\n",
    "# Etract individual groups\n",
    "asian = voter_age[groups[\"asian\"]]\n",
    "black = voter_age[groups[\"black\"]]\n",
    "hispanic = voter_age[groups[\"hispanic\"]]\n",
    "other = voter_age[groups[\"other\"]]\n",
    "white = voter_age[groups[\"white\"]]\n"
   ]
  },
  {
   "cell_type": "markdown",
   "id": "f1ddb047",
   "metadata": {},
   "source": [
    "H0:   The mean age of voters across the race is identical\n",
    "\n",
    "H1:   The mean age of voters across the race is not identical."
   ]
  },
  {
   "cell_type": "code",
   "execution_count": 67,
   "id": "4e0c334c",
   "metadata": {},
   "outputs": [
    {
     "data": {
      "text/plain": [
       "F_onewayResult(statistic=1.7744689357329695, pvalue=0.13173183201930463)"
      ]
     },
     "execution_count": 67,
     "metadata": {},
     "output_type": "execute_result"
    }
   ],
   "source": [
    "# Perform the ANOVA\n",
    "stats.f_oneway(asian, black, hispanic, other, white)"
   ]
  },
  {
   "cell_type": "code",
   "execution_count": 68,
   "id": "88e3ab74",
   "metadata": {},
   "outputs": [],
   "source": [
    "## Since the p-value is more than 0.05 - we fail to reject the null hypothesis."
   ]
  },
  {
   "cell_type": "markdown",
   "id": "c8e684fc",
   "metadata": {},
   "source": [
    "Conclusion - Since the tests results came in favour of the null hypothesis, we can conclude by saying that there is no statistical difference between the age of voters across the race."
   ]
  },
  {
   "cell_type": "code",
   "execution_count": null,
   "id": "bdd9a8da",
   "metadata": {},
   "outputs": [],
   "source": []
  }
 ],
 "metadata": {
  "kernelspec": {
   "display_name": "Python 3",
   "language": "python",
   "name": "python3"
  },
  "language_info": {
   "codemirror_mode": {
    "name": "ipython",
    "version": 3
   },
   "file_extension": ".py",
   "mimetype": "text/x-python",
   "name": "python",
   "nbconvert_exporter": "python",
   "pygments_lexer": "ipython3",
   "version": "3.8.8"
  }
 },
 "nbformat": 4,
 "nbformat_minor": 5
}
